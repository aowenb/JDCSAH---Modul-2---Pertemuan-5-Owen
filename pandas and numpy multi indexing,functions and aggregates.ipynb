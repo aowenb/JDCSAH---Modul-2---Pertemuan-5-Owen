{
 "metadata": {
  "language_info": {
   "codemirror_mode": {
    "name": "ipython",
    "version": 3
   },
   "file_extension": ".py",
   "mimetype": "text/x-python",
   "name": "python",
   "nbconvert_exporter": "python",
   "pygments_lexer": "ipython3",
   "version": "3.9.2-final"
  },
  "orig_nbformat": 2,
  "kernelspec": {
   "name": "python3",
   "display_name": "Python 3.9.2 64-bit",
   "metadata": {
    "interpreter": {
     "hash": "aee8b7b246df8f9039afb4144a1f6fd8d2ca17a180786b69acc140d282b71a49"
    }
   }
  }
 },
 "nbformat": 4,
 "nbformat_minor": 2,
 "cells": [
  {
   "cell_type": "code",
   "execution_count": 1,
   "metadata": {},
   "outputs": [],
   "source": [
    "import numpy as np\n",
    "import pandas as pd"
   ]
  },
  {
   "cell_type": "code",
   "execution_count": 2,
   "metadata": {},
   "outputs": [],
   "source": [
    "players = ['Allen Iverson','Steve Nash','Kobe Bryant','Michael Jordan','Lebron James','Blake Griffin']\n",
    "positions = ['PG','PG','SG','SG','SF','SF']\n",
    "index = list(zip(positions,players))"
   ]
  },
  {
   "cell_type": "code",
   "execution_count": 3,
   "metadata": {},
   "outputs": [
    {
     "output_type": "execute_result",
     "data": {
      "text/plain": [
       "MultiIndex([('PG',  'Allen Iverson'),\n",
       "            ('PG',     'Steve Nash'),\n",
       "            ('SG',    'Kobe Bryant'),\n",
       "            ('SG', 'Michael Jordan'),\n",
       "            ('SF',   'Lebron James'),\n",
       "            ('SF',  'Blake Griffin')],\n",
       "           )"
      ]
     },
     "metadata": {},
     "execution_count": 3
    }
   ],
   "source": [
    "index = pd.MultiIndex.from_tuples(index)\n",
    "index"
   ]
  },
  {
   "cell_type": "code",
   "execution_count": 5,
   "metadata": {},
   "outputs": [
    {
     "output_type": "execute_result",
     "data": {
      "text/plain": [
       "array([[12, 29, 20],\n",
       "       [14, 14,  5],\n",
       "       [ 8, 18,  3],\n",
       "       [14, 16, 27],\n",
       "       [ 2, 28, 14],\n",
       "       [25, 14, 23]])"
      ]
     },
     "metadata": {},
     "execution_count": 5
    }
   ],
   "source": [
    "stats = np.random.randint(1,30,(6,3))\n",
    "stats"
   ]
  },
  {
   "cell_type": "code",
   "execution_count": 7,
   "metadata": {},
   "outputs": [
    {
     "output_type": "execute_result",
     "data": {
      "text/plain": [
       "                   points  assists  rebounds\n",
       "PG Allen Iverson       12       29        20\n",
       "   Steve Nash          14       14         5\n",
       "SG Kobe Bryant          8       18         3\n",
       "   Michael Jordan      14       16        27\n",
       "SF Lebron James         2       28        14\n",
       "   Blake Griffin       25       14        23"
      ],
      "text/html": "<div>\n<style scoped>\n    .dataframe tbody tr th:only-of-type {\n        vertical-align: middle;\n    }\n\n    .dataframe tbody tr th {\n        vertical-align: top;\n    }\n\n    .dataframe thead th {\n        text-align: right;\n    }\n</style>\n<table border=\"1\" class=\"dataframe\">\n  <thead>\n    <tr style=\"text-align: right;\">\n      <th></th>\n      <th></th>\n      <th>points</th>\n      <th>assists</th>\n      <th>rebounds</th>\n    </tr>\n  </thead>\n  <tbody>\n    <tr>\n      <th rowspan=\"2\" valign=\"top\">PG</th>\n      <th>Allen Iverson</th>\n      <td>12</td>\n      <td>29</td>\n      <td>20</td>\n    </tr>\n    <tr>\n      <th>Steve Nash</th>\n      <td>14</td>\n      <td>14</td>\n      <td>5</td>\n    </tr>\n    <tr>\n      <th rowspan=\"2\" valign=\"top\">SG</th>\n      <th>Kobe Bryant</th>\n      <td>8</td>\n      <td>18</td>\n      <td>3</td>\n    </tr>\n    <tr>\n      <th>Michael Jordan</th>\n      <td>14</td>\n      <td>16</td>\n      <td>27</td>\n    </tr>\n    <tr>\n      <th rowspan=\"2\" valign=\"top\">SF</th>\n      <th>Lebron James</th>\n      <td>2</td>\n      <td>28</td>\n      <td>14</td>\n    </tr>\n    <tr>\n      <th>Blake Griffin</th>\n      <td>25</td>\n      <td>14</td>\n      <td>23</td>\n    </tr>\n  </tbody>\n</table>\n</div>"
     },
     "metadata": {},
     "execution_count": 7
    }
   ],
   "source": [
    "table = pd.DataFrame(\n",
    "    data = stats,\n",
    "    index = index,\n",
    "    columns = ['points','assists','rebounds']\n",
    ")\n",
    "table"
   ]
  },
  {
   "cell_type": "code",
   "execution_count": 10,
   "metadata": {},
   "outputs": [
    {
     "output_type": "execute_result",
     "data": {
      "text/plain": [
       "                points  assists  rebounds\n",
       "Kobe Bryant          8       18         3\n",
       "Michael Jordan      14       16        27"
      ],
      "text/html": "<div>\n<style scoped>\n    .dataframe tbody tr th:only-of-type {\n        vertical-align: middle;\n    }\n\n    .dataframe tbody tr th {\n        vertical-align: top;\n    }\n\n    .dataframe thead th {\n        text-align: right;\n    }\n</style>\n<table border=\"1\" class=\"dataframe\">\n  <thead>\n    <tr style=\"text-align: right;\">\n      <th></th>\n      <th>points</th>\n      <th>assists</th>\n      <th>rebounds</th>\n    </tr>\n  </thead>\n  <tbody>\n    <tr>\n      <th>Kobe Bryant</th>\n      <td>8</td>\n      <td>18</td>\n      <td>3</td>\n    </tr>\n    <tr>\n      <th>Michael Jordan</th>\n      <td>14</td>\n      <td>16</td>\n      <td>27</td>\n    </tr>\n  </tbody>\n</table>\n</div>"
     },
     "metadata": {},
     "execution_count": 10
    }
   ],
   "source": [
    "table.loc['SG']"
   ]
  },
  {
   "cell_type": "code",
   "execution_count": 17,
   "metadata": {},
   "outputs": [
    {
     "output_type": "execute_result",
     "data": {
      "text/plain": [
       "points      14\n",
       "assists     16\n",
       "rebounds    27\n",
       "Name: Michael Jordan, dtype: int64"
      ]
     },
     "metadata": {},
     "execution_count": 17
    }
   ],
   "source": [
    "table.loc['SG'].loc['Michael Jordan']"
   ]
  },
  {
   "cell_type": "code",
   "execution_count": 19,
   "metadata": {},
   "outputs": [
    {
     "output_type": "execute_result",
     "data": {
      "text/plain": [
       "FrozenList([None, None])"
      ]
     },
     "metadata": {},
     "execution_count": 19
    }
   ],
   "source": [
    "table.index.names"
   ]
  },
  {
   "cell_type": "code",
   "execution_count": 20,
   "metadata": {},
   "outputs": [
    {
     "output_type": "execute_result",
     "data": {
      "text/plain": [
       "                         points  assists  rebounds\n",
       "position player name                              \n",
       "PG       Allen Iverson       12       29        20\n",
       "         Steve Nash          14       14         5\n",
       "SG       Kobe Bryant          8       18         3\n",
       "         Michael Jordan      14       16        27\n",
       "SF       Lebron James         2       28        14\n",
       "         Blake Griffin       25       14        23"
      ],
      "text/html": "<div>\n<style scoped>\n    .dataframe tbody tr th:only-of-type {\n        vertical-align: middle;\n    }\n\n    .dataframe tbody tr th {\n        vertical-align: top;\n    }\n\n    .dataframe thead th {\n        text-align: right;\n    }\n</style>\n<table border=\"1\" class=\"dataframe\">\n  <thead>\n    <tr style=\"text-align: right;\">\n      <th></th>\n      <th></th>\n      <th>points</th>\n      <th>assists</th>\n      <th>rebounds</th>\n    </tr>\n    <tr>\n      <th>position</th>\n      <th>player name</th>\n      <th></th>\n      <th></th>\n      <th></th>\n    </tr>\n  </thead>\n  <tbody>\n    <tr>\n      <th rowspan=\"2\" valign=\"top\">PG</th>\n      <th>Allen Iverson</th>\n      <td>12</td>\n      <td>29</td>\n      <td>20</td>\n    </tr>\n    <tr>\n      <th>Steve Nash</th>\n      <td>14</td>\n      <td>14</td>\n      <td>5</td>\n    </tr>\n    <tr>\n      <th rowspan=\"2\" valign=\"top\">SG</th>\n      <th>Kobe Bryant</th>\n      <td>8</td>\n      <td>18</td>\n      <td>3</td>\n    </tr>\n    <tr>\n      <th>Michael Jordan</th>\n      <td>14</td>\n      <td>16</td>\n      <td>27</td>\n    </tr>\n    <tr>\n      <th rowspan=\"2\" valign=\"top\">SF</th>\n      <th>Lebron James</th>\n      <td>2</td>\n      <td>28</td>\n      <td>14</td>\n    </tr>\n    <tr>\n      <th>Blake Griffin</th>\n      <td>25</td>\n      <td>14</td>\n      <td>23</td>\n    </tr>\n  </tbody>\n</table>\n</div>"
     },
     "metadata": {},
     "execution_count": 20
    }
   ],
   "source": [
    "table.index.names = ['position','player name']\n",
    "table"
   ]
  },
  {
   "cell_type": "code",
   "execution_count": 21,
   "metadata": {},
   "outputs": [
    {
     "output_type": "execute_result",
     "data": {
      "text/plain": [
       "                         points  assists  rebounds\n",
       "position player name                              \n",
       "PG       Allen Iverson       12       29        20\n",
       "         Steve Nash          14       14         5\n",
       "SG       Kobe Bryant          8       18         3\n",
       "         Michael Jordan      14       16        27\n",
       "SF       Lebron James         2       28        14\n",
       "         Blake Griffin       25       14        23"
      ],
      "text/html": "<div>\n<style scoped>\n    .dataframe tbody tr th:only-of-type {\n        vertical-align: middle;\n    }\n\n    .dataframe tbody tr th {\n        vertical-align: top;\n    }\n\n    .dataframe thead th {\n        text-align: right;\n    }\n</style>\n<table border=\"1\" class=\"dataframe\">\n  <thead>\n    <tr style=\"text-align: right;\">\n      <th></th>\n      <th></th>\n      <th>points</th>\n      <th>assists</th>\n      <th>rebounds</th>\n    </tr>\n    <tr>\n      <th>position</th>\n      <th>player name</th>\n      <th></th>\n      <th></th>\n      <th></th>\n    </tr>\n  </thead>\n  <tbody>\n    <tr>\n      <th rowspan=\"2\" valign=\"top\">PG</th>\n      <th>Allen Iverson</th>\n      <td>12</td>\n      <td>29</td>\n      <td>20</td>\n    </tr>\n    <tr>\n      <th>Steve Nash</th>\n      <td>14</td>\n      <td>14</td>\n      <td>5</td>\n    </tr>\n    <tr>\n      <th rowspan=\"2\" valign=\"top\">SG</th>\n      <th>Kobe Bryant</th>\n      <td>8</td>\n      <td>18</td>\n      <td>3</td>\n    </tr>\n    <tr>\n      <th>Michael Jordan</th>\n      <td>14</td>\n      <td>16</td>\n      <td>27</td>\n    </tr>\n    <tr>\n      <th rowspan=\"2\" valign=\"top\">SF</th>\n      <th>Lebron James</th>\n      <td>2</td>\n      <td>28</td>\n      <td>14</td>\n    </tr>\n    <tr>\n      <th>Blake Griffin</th>\n      <td>25</td>\n      <td>14</td>\n      <td>23</td>\n    </tr>\n  </tbody>\n</table>\n</div>"
     },
     "metadata": {},
     "execution_count": 21
    }
   ],
   "source": [
    "table"
   ]
  },
  {
   "cell_type": "code",
   "execution_count": 23,
   "metadata": {},
   "outputs": [
    {
     "output_type": "execute_result",
     "data": {
      "text/plain": [
       "                         points  assists  rebounds\n",
       "position player name                              \n",
       "SF       Blake Griffin       25       14        23\n",
       "PG       Steve Nash          14       14         5\n",
       "SG       Michael Jordan      14       16        27\n",
       "PG       Allen Iverson       12       29        20\n",
       "SG       Kobe Bryant          8       18         3\n",
       "SF       Lebron James         2       28        14"
      ],
      "text/html": "<div>\n<style scoped>\n    .dataframe tbody tr th:only-of-type {\n        vertical-align: middle;\n    }\n\n    .dataframe tbody tr th {\n        vertical-align: top;\n    }\n\n    .dataframe thead th {\n        text-align: right;\n    }\n</style>\n<table border=\"1\" class=\"dataframe\">\n  <thead>\n    <tr style=\"text-align: right;\">\n      <th></th>\n      <th></th>\n      <th>points</th>\n      <th>assists</th>\n      <th>rebounds</th>\n    </tr>\n    <tr>\n      <th>position</th>\n      <th>player name</th>\n      <th></th>\n      <th></th>\n      <th></th>\n    </tr>\n  </thead>\n  <tbody>\n    <tr>\n      <th>SF</th>\n      <th>Blake Griffin</th>\n      <td>25</td>\n      <td>14</td>\n      <td>23</td>\n    </tr>\n    <tr>\n      <th>PG</th>\n      <th>Steve Nash</th>\n      <td>14</td>\n      <td>14</td>\n      <td>5</td>\n    </tr>\n    <tr>\n      <th>SG</th>\n      <th>Michael Jordan</th>\n      <td>14</td>\n      <td>16</td>\n      <td>27</td>\n    </tr>\n    <tr>\n      <th>PG</th>\n      <th>Allen Iverson</th>\n      <td>12</td>\n      <td>29</td>\n      <td>20</td>\n    </tr>\n    <tr>\n      <th>SG</th>\n      <th>Kobe Bryant</th>\n      <td>8</td>\n      <td>18</td>\n      <td>3</td>\n    </tr>\n    <tr>\n      <th>SF</th>\n      <th>Lebron James</th>\n      <td>2</td>\n      <td>28</td>\n      <td>14</td>\n    </tr>\n  </tbody>\n</table>\n</div>"
     },
     "metadata": {},
     "execution_count": 23
    }
   ],
   "source": [
    "table.sort_values('points',ascending=False)"
   ]
  },
  {
   "cell_type": "code",
   "execution_count": 24,
   "metadata": {},
   "outputs": [
    {
     "output_type": "execute_result",
     "data": {
      "text/plain": [
       "<bound method DataFrame.sort_index of                          points  assists  rebounds\n",
       "position player name                              \n",
       "PG       Allen Iverson       12       29        20\n",
       "         Steve Nash          14       14         5\n",
       "SG       Kobe Bryant          8       18         3\n",
       "         Michael Jordan      14       16        27\n",
       "SF       Lebron James         2       28        14\n",
       "         Blake Griffin       25       14        23>"
      ]
     },
     "metadata": {},
     "execution_count": 24
    }
   ],
   "source": [
    "table.sort_index"
   ]
  },
  {
   "cell_type": "code",
   "execution_count": 25,
   "metadata": {},
   "outputs": [
    {
     "output_type": "execute_result",
     "data": {
      "text/plain": [
       "                         points  assists  rebounds\n",
       "position player name                              \n",
       "PG       Allen Iverson       12       29        20\n",
       "         Steve Nash          14       14         5\n",
       "SG       Kobe Bryant          8       18         3\n",
       "         Michael Jordan      14       16        27\n",
       "SF       Lebron James         2       28        14\n",
       "         Blake Griffin       25       14        23"
      ],
      "text/html": "<div>\n<style scoped>\n    .dataframe tbody tr th:only-of-type {\n        vertical-align: middle;\n    }\n\n    .dataframe tbody tr th {\n        vertical-align: top;\n    }\n\n    .dataframe thead th {\n        text-align: right;\n    }\n</style>\n<table border=\"1\" class=\"dataframe\">\n  <thead>\n    <tr style=\"text-align: right;\">\n      <th></th>\n      <th></th>\n      <th>points</th>\n      <th>assists</th>\n      <th>rebounds</th>\n    </tr>\n    <tr>\n      <th>position</th>\n      <th>player name</th>\n      <th></th>\n      <th></th>\n      <th></th>\n    </tr>\n  </thead>\n  <tbody>\n    <tr>\n      <th rowspan=\"2\" valign=\"top\">PG</th>\n      <th>Allen Iverson</th>\n      <td>12</td>\n      <td>29</td>\n      <td>20</td>\n    </tr>\n    <tr>\n      <th>Steve Nash</th>\n      <td>14</td>\n      <td>14</td>\n      <td>5</td>\n    </tr>\n    <tr>\n      <th rowspan=\"2\" valign=\"top\">SG</th>\n      <th>Kobe Bryant</th>\n      <td>8</td>\n      <td>18</td>\n      <td>3</td>\n    </tr>\n    <tr>\n      <th>Michael Jordan</th>\n      <td>14</td>\n      <td>16</td>\n      <td>27</td>\n    </tr>\n    <tr>\n      <th rowspan=\"2\" valign=\"top\">SF</th>\n      <th>Lebron James</th>\n      <td>2</td>\n      <td>28</td>\n      <td>14</td>\n    </tr>\n    <tr>\n      <th>Blake Griffin</th>\n      <td>25</td>\n      <td>14</td>\n      <td>23</td>\n    </tr>\n  </tbody>\n</table>\n</div>"
     },
     "metadata": {},
     "execution_count": 25
    }
   ],
   "source": [
    "table"
   ]
  },
  {
   "cell_type": "code",
   "execution_count": 26,
   "metadata": {},
   "outputs": [
    {
     "output_type": "stream",
     "name": "stdout",
     "text": [
      "<class 'pandas.core.frame.DataFrame'>\nMultiIndex: 6 entries, ('PG', 'Allen Iverson') to ('SF', 'Blake Griffin')\nData columns (total 3 columns):\n #   Column    Non-Null Count  Dtype\n---  ------    --------------  -----\n 0   points    6 non-null      int64\n 1   assists   6 non-null      int64\n 2   rebounds  6 non-null      int64\ndtypes: int64(3)\nmemory usage: 625.0+ bytes\n"
     ]
    }
   ],
   "source": [
    "table.info()"
   ]
  },
  {
   "cell_type": "code",
   "execution_count": 27,
   "metadata": {},
   "outputs": [
    {
     "output_type": "execute_result",
     "data": {
      "text/plain": [
       "(6, 3)"
      ]
     },
     "metadata": {},
     "execution_count": 27
    }
   ],
   "source": [
    "table.shape"
   ]
  },
  {
   "cell_type": "code",
   "execution_count": 28,
   "metadata": {},
   "outputs": [
    {
     "output_type": "execute_result",
     "data": {
      "text/plain": [
       "Index(['points', 'assists', 'rebounds'], dtype='object')"
      ]
     },
     "metadata": {},
     "execution_count": 28
    }
   ],
   "source": [
    "table.columns"
   ]
  },
  {
   "cell_type": "code",
   "execution_count": 30,
   "metadata": {},
   "outputs": [
    {
     "output_type": "execute_result",
     "data": {
      "text/plain": [
       "points      int64\n",
       "assists     int64\n",
       "rebounds    int64\n",
       "dtype: object"
      ]
     },
     "metadata": {},
     "execution_count": 30
    }
   ],
   "source": [
    "table.dtypes"
   ]
  },
  {
   "cell_type": "code",
   "execution_count": 33,
   "metadata": {},
   "outputs": [
    {
     "output_type": "execute_result",
     "data": {
      "text/plain": [
       "          points    assists   rebounds\n",
       "count   6.000000   6.000000   6.000000\n",
       "mean   12.500000  19.833333  15.333333\n",
       "std     7.635444   6.882345   9.770705\n",
       "min     2.000000  14.000000   3.000000\n",
       "25%     9.000000  14.500000   7.250000\n",
       "50%    13.000000  17.000000  17.000000\n",
       "75%    14.000000  25.500000  22.250000\n",
       "max    25.000000  29.000000  27.000000"
      ],
      "text/html": "<div>\n<style scoped>\n    .dataframe tbody tr th:only-of-type {\n        vertical-align: middle;\n    }\n\n    .dataframe tbody tr th {\n        vertical-align: top;\n    }\n\n    .dataframe thead th {\n        text-align: right;\n    }\n</style>\n<table border=\"1\" class=\"dataframe\">\n  <thead>\n    <tr style=\"text-align: right;\">\n      <th></th>\n      <th>points</th>\n      <th>assists</th>\n      <th>rebounds</th>\n    </tr>\n  </thead>\n  <tbody>\n    <tr>\n      <th>count</th>\n      <td>6.000000</td>\n      <td>6.000000</td>\n      <td>6.000000</td>\n    </tr>\n    <tr>\n      <th>mean</th>\n      <td>12.500000</td>\n      <td>19.833333</td>\n      <td>15.333333</td>\n    </tr>\n    <tr>\n      <th>std</th>\n      <td>7.635444</td>\n      <td>6.882345</td>\n      <td>9.770705</td>\n    </tr>\n    <tr>\n      <th>min</th>\n      <td>2.000000</td>\n      <td>14.000000</td>\n      <td>3.000000</td>\n    </tr>\n    <tr>\n      <th>25%</th>\n      <td>9.000000</td>\n      <td>14.500000</td>\n      <td>7.250000</td>\n    </tr>\n    <tr>\n      <th>50%</th>\n      <td>13.000000</td>\n      <td>17.000000</td>\n      <td>17.000000</td>\n    </tr>\n    <tr>\n      <th>75%</th>\n      <td>14.000000</td>\n      <td>25.500000</td>\n      <td>22.250000</td>\n    </tr>\n    <tr>\n      <th>max</th>\n      <td>25.000000</td>\n      <td>29.000000</td>\n      <td>27.000000</td>\n    </tr>\n  </tbody>\n</table>\n</div>"
     },
     "metadata": {},
     "execution_count": 33
    }
   ],
   "source": [
    "table.describe()"
   ]
  },
  {
   "cell_type": "code",
   "execution_count": 42,
   "metadata": {},
   "outputs": [
    {
     "output_type": "stream",
     "name": "stdout",
     "text": [
      "average points: 12.5\n"
     ]
    }
   ],
   "source": [
    "print('average points:',table['points'].mean()) # .median(), .max(), .std(), .min()"
   ]
  },
  {
   "cell_type": "code",
   "execution_count": 44,
   "metadata": {},
   "outputs": [
    {
     "output_type": "execute_result",
     "data": {
      "text/plain": [
       "array([12, 14,  8,  2, 25])"
      ]
     },
     "metadata": {},
     "execution_count": 44
    }
   ],
   "source": [
    "table['points'].unique()"
   ]
  },
  {
   "cell_type": "code",
   "execution_count": 45,
   "metadata": {},
   "outputs": [
    {
     "output_type": "execute_result",
     "data": {
      "text/plain": [
       "5"
      ]
     },
     "metadata": {},
     "execution_count": 45
    }
   ],
   "source": [
    "table['points'].nunique()"
   ]
  },
  {
   "cell_type": "code",
   "execution_count": 50,
   "metadata": {},
   "outputs": [
    {
     "output_type": "execute_result",
     "data": {
      "text/plain": [
       "14    2\n",
       "8     1\n",
       "25    1\n",
       "2     1\n",
       "12    1\n",
       "Name: points, dtype: int64"
      ]
     },
     "metadata": {},
     "execution_count": 50
    }
   ],
   "source": [
    "table['points'].value_counts()"
   ]
  },
  {
   "cell_type": "code",
   "execution_count": 52,
   "metadata": {},
   "outputs": [
    {
     "output_type": "execute_result",
     "data": {
      "text/plain": [
       "     A    B  C\n",
       "0  1.0  5.0  1\n",
       "1  2.0  NaN  2\n",
       "2  NaN  NaN  3"
      ],
      "text/html": "<div>\n<style scoped>\n    .dataframe tbody tr th:only-of-type {\n        vertical-align: middle;\n    }\n\n    .dataframe tbody tr th {\n        vertical-align: top;\n    }\n\n    .dataframe thead th {\n        text-align: right;\n    }\n</style>\n<table border=\"1\" class=\"dataframe\">\n  <thead>\n    <tr style=\"text-align: right;\">\n      <th></th>\n      <th>A</th>\n      <th>B</th>\n      <th>C</th>\n    </tr>\n  </thead>\n  <tbody>\n    <tr>\n      <th>0</th>\n      <td>1.0</td>\n      <td>5.0</td>\n      <td>1</td>\n    </tr>\n    <tr>\n      <th>1</th>\n      <td>2.0</td>\n      <td>NaN</td>\n      <td>2</td>\n    </tr>\n    <tr>\n      <th>2</th>\n      <td>NaN</td>\n      <td>NaN</td>\n      <td>3</td>\n    </tr>\n  </tbody>\n</table>\n</div>"
     },
     "metadata": {},
     "execution_count": 52
    }
   ],
   "source": [
    "df = pd.DataFrame(\n",
    "    {'A':[1,2,np.nan],\n",
    "    'B':[5,np.nan,np.nan],\n",
    "    'C':[1,2,3]}\n",
    ")\n",
    "df"
   ]
  },
  {
   "cell_type": "code",
   "execution_count": 53,
   "metadata": {},
   "outputs": [
    {
     "output_type": "execute_result",
     "data": {
      "text/plain": [
       "       A      B      C\n",
       "0  False  False  False\n",
       "1  False   True  False\n",
       "2   True   True  False"
      ],
      "text/html": "<div>\n<style scoped>\n    .dataframe tbody tr th:only-of-type {\n        vertical-align: middle;\n    }\n\n    .dataframe tbody tr th {\n        vertical-align: top;\n    }\n\n    .dataframe thead th {\n        text-align: right;\n    }\n</style>\n<table border=\"1\" class=\"dataframe\">\n  <thead>\n    <tr style=\"text-align: right;\">\n      <th></th>\n      <th>A</th>\n      <th>B</th>\n      <th>C</th>\n    </tr>\n  </thead>\n  <tbody>\n    <tr>\n      <th>0</th>\n      <td>False</td>\n      <td>False</td>\n      <td>False</td>\n    </tr>\n    <tr>\n      <th>1</th>\n      <td>False</td>\n      <td>True</td>\n      <td>False</td>\n    </tr>\n    <tr>\n      <th>2</th>\n      <td>True</td>\n      <td>True</td>\n      <td>False</td>\n    </tr>\n  </tbody>\n</table>\n</div>"
     },
     "metadata": {},
     "execution_count": 53
    }
   ],
   "source": [
    "df.isna() # to check null values that can contribute to bias\n"
   ]
  },
  {
   "cell_type": "code",
   "execution_count": 54,
   "metadata": {},
   "outputs": [
    {
     "output_type": "execute_result",
     "data": {
      "text/plain": [
       "A    1\n",
       "B    2\n",
       "C    0\n",
       "dtype: int64"
      ]
     },
     "metadata": {},
     "execution_count": 54
    }
   ],
   "source": [
    "df.isna().sum()"
   ]
  },
  {
   "cell_type": "code",
   "execution_count": 56,
   "metadata": {},
   "outputs": [
    {
     "output_type": "execute_result",
     "data": {
      "text/plain": [
       "     A    B  C\n",
       "0  1.0  5.0  1"
      ],
      "text/html": "<div>\n<style scoped>\n    .dataframe tbody tr th:only-of-type {\n        vertical-align: middle;\n    }\n\n    .dataframe tbody tr th {\n        vertical-align: top;\n    }\n\n    .dataframe thead th {\n        text-align: right;\n    }\n</style>\n<table border=\"1\" class=\"dataframe\">\n  <thead>\n    <tr style=\"text-align: right;\">\n      <th></th>\n      <th>A</th>\n      <th>B</th>\n      <th>C</th>\n    </tr>\n  </thead>\n  <tbody>\n    <tr>\n      <th>0</th>\n      <td>1.0</td>\n      <td>5.0</td>\n      <td>1</td>\n    </tr>\n  </tbody>\n</table>\n</div>"
     },
     "metadata": {},
     "execution_count": 56
    }
   ],
   "source": [
    "df.dropna()# will drop all rows with all null values"
   ]
  },
  {
   "cell_type": "code",
   "execution_count": 57,
   "metadata": {},
   "outputs": [
    {
     "output_type": "execute_result",
     "data": {
      "text/plain": [
       "   C\n",
       "0  1\n",
       "1  2\n",
       "2  3"
      ],
      "text/html": "<div>\n<style scoped>\n    .dataframe tbody tr th:only-of-type {\n        vertical-align: middle;\n    }\n\n    .dataframe tbody tr th {\n        vertical-align: top;\n    }\n\n    .dataframe thead th {\n        text-align: right;\n    }\n</style>\n<table border=\"1\" class=\"dataframe\">\n  <thead>\n    <tr style=\"text-align: right;\">\n      <th></th>\n      <th>C</th>\n    </tr>\n  </thead>\n  <tbody>\n    <tr>\n      <th>0</th>\n      <td>1</td>\n    </tr>\n    <tr>\n      <th>1</th>\n      <td>2</td>\n    </tr>\n    <tr>\n      <th>2</th>\n      <td>3</td>\n    </tr>\n  </tbody>\n</table>\n</div>"
     },
     "metadata": {},
     "execution_count": 57
    }
   ],
   "source": [
    "df.dropna(axis=1) # will delete columns with null values"
   ]
  },
  {
   "cell_type": "code",
   "execution_count": 60,
   "metadata": {},
   "outputs": [
    {
     "output_type": "execute_result",
     "data": {
      "text/plain": [
       "     A    B  C\n",
       "0  1.0  5.0  1\n",
       "1  2.0  NaN  2"
      ],
      "text/html": "<div>\n<style scoped>\n    .dataframe tbody tr th:only-of-type {\n        vertical-align: middle;\n    }\n\n    .dataframe tbody tr th {\n        vertical-align: top;\n    }\n\n    .dataframe thead th {\n        text-align: right;\n    }\n</style>\n<table border=\"1\" class=\"dataframe\">\n  <thead>\n    <tr style=\"text-align: right;\">\n      <th></th>\n      <th>A</th>\n      <th>B</th>\n      <th>C</th>\n    </tr>\n  </thead>\n  <tbody>\n    <tr>\n      <th>0</th>\n      <td>1.0</td>\n      <td>5.0</td>\n      <td>1</td>\n    </tr>\n    <tr>\n      <th>1</th>\n      <td>2.0</td>\n      <td>NaN</td>\n      <td>2</td>\n    </tr>\n  </tbody>\n</table>\n</div>"
     },
     "metadata": {},
     "execution_count": 60
    }
   ],
   "source": [
    "df.dropna(thresh = 2)"
   ]
  },
  {
   "cell_type": "code",
   "execution_count": 61,
   "metadata": {},
   "outputs": [
    {
     "output_type": "execute_result",
     "data": {
      "text/plain": [
       "      A     B  C\n",
       "0   1.0   5.0  1\n",
       "1   2.0  NONE  2\n",
       "2  NONE  NONE  3"
      ],
      "text/html": "<div>\n<style scoped>\n    .dataframe tbody tr th:only-of-type {\n        vertical-align: middle;\n    }\n\n    .dataframe tbody tr th {\n        vertical-align: top;\n    }\n\n    .dataframe thead th {\n        text-align: right;\n    }\n</style>\n<table border=\"1\" class=\"dataframe\">\n  <thead>\n    <tr style=\"text-align: right;\">\n      <th></th>\n      <th>A</th>\n      <th>B</th>\n      <th>C</th>\n    </tr>\n  </thead>\n  <tbody>\n    <tr>\n      <th>0</th>\n      <td>1.0</td>\n      <td>5.0</td>\n      <td>1</td>\n    </tr>\n    <tr>\n      <th>1</th>\n      <td>2.0</td>\n      <td>NONE</td>\n      <td>2</td>\n    </tr>\n    <tr>\n      <th>2</th>\n      <td>NONE</td>\n      <td>NONE</td>\n      <td>3</td>\n    </tr>\n  </tbody>\n</table>\n</div>"
     },
     "metadata": {},
     "execution_count": 61
    }
   ],
   "source": [
    "df.fillna(value='NONE')"
   ]
  },
  {
   "cell_type": "code",
   "execution_count": 75,
   "metadata": {},
   "outputs": [
    {
     "output_type": "execute_result",
     "data": {
      "text/plain": [
       "0    1.0\n",
       "1    2.0\n",
       "2    1.5\n",
       "Name: A, dtype: float64"
      ]
     },
     "metadata": {},
     "execution_count": 75
    }
   ],
   "source": [
    "df['A'].fillna(value=df['A'].mean()) # fill empy values with mean of A"
   ]
  },
  {
   "cell_type": "code",
   "execution_count": 79,
   "metadata": {},
   "outputs": [
    {
     "output_type": "execute_result",
     "data": {
      "text/plain": [
       "  Company   Person  Sales\n",
       "0    AMZN   Jeff B    618\n",
       "1    AMZN  Bezos J    466\n",
       "2    TSLA   Elon M    566\n",
       "3    TSLA   Musk E    622\n",
       "4    FCBK   Zuck M    794\n",
       "5    FCBK   Mark Z    272"
      ],
      "text/html": "<div>\n<style scoped>\n    .dataframe tbody tr th:only-of-type {\n        vertical-align: middle;\n    }\n\n    .dataframe tbody tr th {\n        vertical-align: top;\n    }\n\n    .dataframe thead th {\n        text-align: right;\n    }\n</style>\n<table border=\"1\" class=\"dataframe\">\n  <thead>\n    <tr style=\"text-align: right;\">\n      <th></th>\n      <th>Company</th>\n      <th>Person</th>\n      <th>Sales</th>\n    </tr>\n  </thead>\n  <tbody>\n    <tr>\n      <th>0</th>\n      <td>AMZN</td>\n      <td>Jeff B</td>\n      <td>618</td>\n    </tr>\n    <tr>\n      <th>1</th>\n      <td>AMZN</td>\n      <td>Bezos J</td>\n      <td>466</td>\n    </tr>\n    <tr>\n      <th>2</th>\n      <td>TSLA</td>\n      <td>Elon M</td>\n      <td>566</td>\n    </tr>\n    <tr>\n      <th>3</th>\n      <td>TSLA</td>\n      <td>Musk E</td>\n      <td>622</td>\n    </tr>\n    <tr>\n      <th>4</th>\n      <td>FCBK</td>\n      <td>Zuck M</td>\n      <td>794</td>\n    </tr>\n    <tr>\n      <th>5</th>\n      <td>FCBK</td>\n      <td>Mark Z</td>\n      <td>272</td>\n    </tr>\n  </tbody>\n</table>\n</div>"
     },
     "metadata": {},
     "execution_count": 79
    }
   ],
   "source": [
    "data = pd.DataFrame({\n",
    "    'Company':['AMZN','AMZN','TSLA','TSLA','FCBK','FCBK'],\n",
    "    'Person':['Jeff B','Bezos J','Elon M','Musk E','Zuck M','Mark Z'],\n",
    "    'Sales': np.random.randint(100,1000,6)\n",
    "})\n",
    "data"
   ]
  },
  {
   "cell_type": "code",
   "execution_count": 80,
   "metadata": {},
   "outputs": [
    {
     "output_type": "execute_result",
     "data": {
      "text/plain": [
       "            Sales\n",
       "count    6.000000\n",
       "mean   556.333333\n",
       "std    175.327883\n",
       "min    272.000000\n",
       "25%    491.000000\n",
       "50%    592.000000\n",
       "75%    621.000000\n",
       "max    794.000000"
      ],
      "text/html": "<div>\n<style scoped>\n    .dataframe tbody tr th:only-of-type {\n        vertical-align: middle;\n    }\n\n    .dataframe tbody tr th {\n        vertical-align: top;\n    }\n\n    .dataframe thead th {\n        text-align: right;\n    }\n</style>\n<table border=\"1\" class=\"dataframe\">\n  <thead>\n    <tr style=\"text-align: right;\">\n      <th></th>\n      <th>Sales</th>\n    </tr>\n  </thead>\n  <tbody>\n    <tr>\n      <th>count</th>\n      <td>6.000000</td>\n    </tr>\n    <tr>\n      <th>mean</th>\n      <td>556.333333</td>\n    </tr>\n    <tr>\n      <th>std</th>\n      <td>175.327883</td>\n    </tr>\n    <tr>\n      <th>min</th>\n      <td>272.000000</td>\n    </tr>\n    <tr>\n      <th>25%</th>\n      <td>491.000000</td>\n    </tr>\n    <tr>\n      <th>50%</th>\n      <td>592.000000</td>\n    </tr>\n    <tr>\n      <th>75%</th>\n      <td>621.000000</td>\n    </tr>\n    <tr>\n      <th>max</th>\n      <td>794.000000</td>\n    </tr>\n  </tbody>\n</table>\n</div>"
     },
     "metadata": {},
     "execution_count": 80
    }
   ],
   "source": [
    "data.describe() # describe gives basic statistics for integers in the dataset"
   ]
  },
  {
   "cell_type": "code",
   "execution_count": 81,
   "metadata": {},
   "outputs": [
    {
     "output_type": "execute_result",
     "data": {
      "text/plain": [
       "       count        mean         std    min    25%    50%    75%    max\n",
       "Sales    6.0  556.333333  175.327883  272.0  491.0  592.0  621.0  794.0"
      ],
      "text/html": "<div>\n<style scoped>\n    .dataframe tbody tr th:only-of-type {\n        vertical-align: middle;\n    }\n\n    .dataframe tbody tr th {\n        vertical-align: top;\n    }\n\n    .dataframe thead th {\n        text-align: right;\n    }\n</style>\n<table border=\"1\" class=\"dataframe\">\n  <thead>\n    <tr style=\"text-align: right;\">\n      <th></th>\n      <th>count</th>\n      <th>mean</th>\n      <th>std</th>\n      <th>min</th>\n      <th>25%</th>\n      <th>50%</th>\n      <th>75%</th>\n      <th>max</th>\n    </tr>\n  </thead>\n  <tbody>\n    <tr>\n      <th>Sales</th>\n      <td>6.0</td>\n      <td>556.333333</td>\n      <td>175.327883</td>\n      <td>272.0</td>\n      <td>491.0</td>\n      <td>592.0</td>\n      <td>621.0</td>\n      <td>794.0</td>\n    </tr>\n  </tbody>\n</table>\n</div>"
     },
     "metadata": {},
     "execution_count": 81
    }
   ],
   "source": [
    "data.describe().transpose()"
   ]
  },
  {
   "cell_type": "code",
   "execution_count": 104,
   "metadata": {},
   "outputs": [
    {
     "output_type": "execute_result",
     "data": {
      "text/plain": [
       "        Sales                                                      \n",
       "        count   mean         std    min    25%    50%    75%    max\n",
       "Company                                                            \n",
       "AMZN      2.0  542.0  107.480231  466.0  504.0  542.0  580.0  618.0\n",
       "FCBK      2.0  533.0  369.109740  272.0  402.5  533.0  663.5  794.0\n",
       "TSLA      2.0  594.0   39.597980  566.0  580.0  594.0  608.0  622.0"
      ],
      "text/html": "<div>\n<style scoped>\n    .dataframe tbody tr th:only-of-type {\n        vertical-align: middle;\n    }\n\n    .dataframe tbody tr th {\n        vertical-align: top;\n    }\n\n    .dataframe thead tr th {\n        text-align: left;\n    }\n\n    .dataframe thead tr:last-of-type th {\n        text-align: right;\n    }\n</style>\n<table border=\"1\" class=\"dataframe\">\n  <thead>\n    <tr>\n      <th></th>\n      <th colspan=\"8\" halign=\"left\">Sales</th>\n    </tr>\n    <tr>\n      <th></th>\n      <th>count</th>\n      <th>mean</th>\n      <th>std</th>\n      <th>min</th>\n      <th>25%</th>\n      <th>50%</th>\n      <th>75%</th>\n      <th>max</th>\n    </tr>\n    <tr>\n      <th>Company</th>\n      <th></th>\n      <th></th>\n      <th></th>\n      <th></th>\n      <th></th>\n      <th></th>\n      <th></th>\n      <th></th>\n    </tr>\n  </thead>\n  <tbody>\n    <tr>\n      <th>AMZN</th>\n      <td>2.0</td>\n      <td>542.0</td>\n      <td>107.480231</td>\n      <td>466.0</td>\n      <td>504.0</td>\n      <td>542.0</td>\n      <td>580.0</td>\n      <td>618.0</td>\n    </tr>\n    <tr>\n      <th>FCBK</th>\n      <td>2.0</td>\n      <td>533.0</td>\n      <td>369.109740</td>\n      <td>272.0</td>\n      <td>402.5</td>\n      <td>533.0</td>\n      <td>663.5</td>\n      <td>794.0</td>\n    </tr>\n    <tr>\n      <th>TSLA</th>\n      <td>2.0</td>\n      <td>594.0</td>\n      <td>39.597980</td>\n      <td>566.0</td>\n      <td>580.0</td>\n      <td>594.0</td>\n      <td>608.0</td>\n      <td>622.0</td>\n    </tr>\n  </tbody>\n</table>\n</div>"
     },
     "metadata": {},
     "execution_count": 104
    }
   ],
   "source": [
    "data.groupby('Company').describe() # groupby selectively shows the data under the subset 'Company'"
   ]
  },
  {
   "cell_type": "code",
   "execution_count": 92,
   "metadata": {},
   "outputs": [
    {
     "output_type": "execute_result",
     "data": {
      "text/plain": [
       "         Sales\n",
       "Company       \n",
       "AMZN       542\n",
       "FCBK       533\n",
       "TSLA       594"
      ],
      "text/html": "<div>\n<style scoped>\n    .dataframe tbody tr th:only-of-type {\n        vertical-align: middle;\n    }\n\n    .dataframe tbody tr th {\n        vertical-align: top;\n    }\n\n    .dataframe thead th {\n        text-align: right;\n    }\n</style>\n<table border=\"1\" class=\"dataframe\">\n  <thead>\n    <tr style=\"text-align: right;\">\n      <th></th>\n      <th>Sales</th>\n    </tr>\n    <tr>\n      <th>Company</th>\n      <th></th>\n    </tr>\n  </thead>\n  <tbody>\n    <tr>\n      <th>AMZN</th>\n      <td>542</td>\n    </tr>\n    <tr>\n      <th>FCBK</th>\n      <td>533</td>\n    </tr>\n    <tr>\n      <th>TSLA</th>\n      <td>594</td>\n    </tr>\n  </tbody>\n</table>\n</div>"
     },
     "metadata": {},
     "execution_count": 92
    }
   ],
   "source": [
    "data.groupby('Company').mean()"
   ]
  },
  {
   "cell_type": "code",
   "execution_count": 101,
   "metadata": {},
   "outputs": [
    {
     "output_type": "execute_result",
     "data": {
      "text/plain": [
       "Sales  count      2.000000\n",
       "       mean     542.000000\n",
       "       std      107.480231\n",
       "       min      466.000000\n",
       "       25%      504.000000\n",
       "       50%      542.000000\n",
       "       75%      580.000000\n",
       "       max      618.000000\n",
       "Name: AMZN, dtype: float64"
      ]
     },
     "metadata": {},
     "execution_count": 101
    }
   ],
   "source": [
    "data.groupby('Company').describe().transpose()['AMZN']"
   ]
  },
  {
   "cell_type": "code",
   "execution_count": 102,
   "metadata": {},
   "outputs": [
    {
     "output_type": "execute_result",
     "data": {
      "text/plain": [
       "542.0"
      ]
     },
     "metadata": {},
     "execution_count": 102
    }
   ],
   "source": [
    "data.groupby('Company').describe().transpose()['AMZN'].loc['Sales'].loc['mean']"
   ]
  }
 ]
}